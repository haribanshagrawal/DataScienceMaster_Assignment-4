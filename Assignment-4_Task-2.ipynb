{
 "cells": [
  {
   "cell_type": "code",
   "execution_count": 26,
   "metadata": {},
   "outputs": [
    {
     "data": {
      "text/plain": [
       "0    1.0\n",
       "1    2.0\n",
       "2    0.0\n",
       "3    1.0\n",
       "4    2.0\n",
       "5    3.0\n",
       "6    4.0\n",
       "7    0.0\n",
       "8    1.0\n",
       "9    2.0\n",
       "Name: Y, dtype: float64"
      ]
     },
     "execution_count": 26,
     "metadata": {},
     "output_type": "execute_result"
    }
   ],
   "source": [
    "#task-2-Program-1\n",
    "'''For each value, count the difference back to the previous zero (or the start of the Series,whichever is closer)\n",
    "create a new column 'Y' Consider a DataFrame df where there is an integer \n",
    "column 'X' import pandas as pd df = pd.DataFrame({'X': [7, 2, 0, 3, 4, 2, 5, 0, 3, 4]})'''\n",
    "import pandas as pd\n",
    "import numpy as np\n",
    "df = pd.DataFrame({'X': [7, 2, 0, 3, 4, 2, 5, 0, 3, 4]})\n",
    "x = (df['X'] != 0).cumsum()\n",
    "y = x != x.shift()\n",
    "df['Y'] = y.groupby((y != y.shift()).cumsum()).cumsum()\n",
    "df['Y']"
   ]
  },
  {
   "cell_type": "code",
   "execution_count": 46,
   "metadata": {},
   "outputs": [
    {
     "data": {
      "text/plain": [
       "2015-01-01    0.660812\n",
       "2015-01-02    0.668606\n",
       "2015-01-05    0.303388\n",
       "2015-01-06    0.124630\n",
       "2015-01-07    0.794448\n",
       "2015-01-08    0.577947\n",
       "2015-01-09    0.896074\n",
       "2015-01-12    0.749946\n",
       "2015-01-13    0.004530\n",
       "2015-01-14    0.276809\n",
       "2015-01-15    0.949479\n",
       "2015-01-16    0.263814\n",
       "2015-01-19    0.559561\n",
       "2015-01-20    0.633258\n",
       "2015-01-21    0.625008\n",
       "2015-01-22    0.063144\n",
       "2015-01-23    0.575853\n",
       "2015-01-26    0.259408\n",
       "2015-01-27    0.308636\n",
       "2015-01-28    0.428525\n",
       "2015-01-29    0.891731\n",
       "2015-01-30    0.930999\n",
       "2015-02-02    0.157678\n",
       "2015-02-03    0.609871\n",
       "2015-02-04    0.171521\n",
       "2015-02-05    0.301865\n",
       "2015-02-06    0.335338\n",
       "2015-02-09    0.209542\n",
       "2015-02-10    0.902798\n",
       "2015-02-11    0.329408\n",
       "                ...   \n",
       "2015-11-20    0.887737\n",
       "2015-11-23    0.529015\n",
       "2015-11-24    0.534947\n",
       "2015-11-25    0.599034\n",
       "2015-11-26    0.659184\n",
       "2015-11-27    0.719887\n",
       "2015-11-30    0.768787\n",
       "2015-12-01    0.703260\n",
       "2015-12-02    0.480826\n",
       "2015-12-03    0.135647\n",
       "2015-12-04    0.816607\n",
       "2015-12-07    0.284464\n",
       "2015-12-08    0.815489\n",
       "2015-12-09    0.403400\n",
       "2015-12-10    0.196874\n",
       "2015-12-11    0.868324\n",
       "2015-12-14    0.633768\n",
       "2015-12-15    0.953915\n",
       "2015-12-16    0.058777\n",
       "2015-12-17    0.933592\n",
       "2015-12-18    0.120348\n",
       "2015-12-21    0.449182\n",
       "2015-12-22    0.639218\n",
       "2015-12-23    0.470545\n",
       "2015-12-24    0.013407\n",
       "2015-12-25    0.222173\n",
       "2015-12-28    0.534260\n",
       "2015-12-29    0.028973\n",
       "2015-12-30    0.849024\n",
       "2015-12-31    0.776517\n",
       "Freq: B, Length: 261, dtype: float64"
      ]
     },
     "execution_count": 46,
     "metadata": {},
     "output_type": "execute_result"
    }
   ],
   "source": [
    "#Program-2\n",
    "'''Create a DatetimeIndex that contains each business day of 2015 and use it to index a Series of\n",
    "random numbers.'''\n",
    "\n",
    "import numpy as np\n",
    "dtindex = pd.date_range(start='2015-01-01', end='2015-12-31', freq='B')\n",
    "sr = pd.Series(np.random.rand(len(dtindex)), index=dtindex)\n",
    "sr                 "
   ]
  },
  {
   "cell_type": "code",
   "execution_count": 47,
   "metadata": {},
   "outputs": [
    {
     "data": {
      "text/plain": [
       "27.32914924900753"
      ]
     },
     "execution_count": 47,
     "metadata": {},
     "output_type": "execute_result"
    }
   ],
   "source": [
    "#Program-3\n",
    "# Find the sum of the values in s for every Wednesday.\n",
    "sr[dtindex.weekday == 2].sum()"
   ]
  },
  {
   "cell_type": "code",
   "execution_count": 48,
   "metadata": {},
   "outputs": [
    {
     "data": {
      "text/plain": [
       "2015-01-31    0.462173\n",
       "2015-02-28    0.501847\n",
       "2015-03-31    0.563990\n",
       "2015-04-30    0.423452\n",
       "2015-05-31    0.469613\n",
       "2015-06-30    0.537328\n",
       "2015-07-31    0.487033\n",
       "2015-08-31    0.501798\n",
       "2015-09-30    0.508157\n",
       "2015-10-31    0.476774\n",
       "2015-11-30    0.479303\n",
       "2015-12-31    0.422559\n",
       "Freq: M, dtype: float64"
      ]
     },
     "execution_count": 48,
     "metadata": {},
     "output_type": "execute_result"
    }
   ],
   "source": [
    "#Program-4\n",
    "#Average For each calendar month\n",
    "#s.resample('M', how='mean')\n",
    "s.resample('M').mean()"
   ]
  },
  {
   "cell_type": "code",
   "execution_count": 57,
   "metadata": {},
   "outputs": [
    {
     "data": {
      "text/plain": [
       "2015-01-31   2015-01-30\n",
       "2015-05-31   2015-04-03\n",
       "2015-09-30   2015-07-02\n",
       "2016-01-31   2015-12-25\n",
       "dtype: datetime64[ns]"
      ]
     },
     "execution_count": 57,
     "metadata": {},
     "output_type": "execute_result"
    }
   ],
   "source": [
    "#Program-5\n",
    "#For each group of four consecutive calendar months in s, find the date on which the highest value occurred.\n",
    "s.groupby(pd.Grouper(freq='4M')).idxmax()"
   ]
  },
  {
   "cell_type": "code",
   "execution_count": null,
   "metadata": {},
   "outputs": [],
   "source": []
  }
 ],
 "metadata": {
  "kernelspec": {
   "display_name": "Python 3",
   "language": "python",
   "name": "python3"
  },
  "language_info": {
   "codemirror_mode": {
    "name": "ipython",
    "version": 3
   },
   "file_extension": ".py",
   "mimetype": "text/x-python",
   "name": "python",
   "nbconvert_exporter": "python",
   "pygments_lexer": "ipython3",
   "version": "3.6.5"
  }
 },
 "nbformat": 4,
 "nbformat_minor": 2
}
